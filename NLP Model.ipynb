{
 "cells": [
  {
   "cell_type": "code",
   "execution_count": 3,
   "id": "4b009cc2-d6ba-4481-8112-9622b6d88119",
   "metadata": {},
   "outputs": [],
   "source": [
    "import torch\n",
    "import torch.nn as nn\n",
    "import pandas as pd\n",
    "import numpy as np\n",
    "import nltk\n",
    "from nltk.tokenize import word_tokenize\n",
    "\n",
    "import torchvision.transforms as transforms\n",
    "from torchvision.datasets import CIFAR10\n",
    "from torch.utils.data import DataLoader, Dataset\n",
    "\n",
    "from collections import Counter"
   ]
  },
  {
   "cell_type": "code",
   "execution_count": 4,
   "id": "7f2eda4e",
   "metadata": {},
   "outputs": [
    {
     "name": "stderr",
     "output_type": "stream",
     "text": [
      "[nltk_data] Downloading package punkt to\n",
      "[nltk_data]     C:\\Users\\Steve\\AppData\\Roaming\\nltk_data...\n",
      "[nltk_data]   Package punkt is already up-to-date!\n"
     ]
    }
   ],
   "source": [
    "nltk.download('punkt');"
   ]
  },
  {
   "cell_type": "code",
   "execution_count": 5,
   "id": "225ec1ff",
   "metadata": {},
   "outputs": [],
   "source": [
    "torch.manual_seed(1);"
   ]
  },
  {
   "cell_type": "code",
   "execution_count": 6,
   "id": "b8951969",
   "metadata": {},
   "outputs": [],
   "source": [
    "word_counter = Counter();"
   ]
  },
  {
   "cell_type": "code",
   "execution_count": 7,
   "id": "2d533789",
   "metadata": {},
   "outputs": [],
   "source": [
    "file = \"../Reviews.csv\";\n",
    "\n",
    "df = pd.read_csv(file);"
   ]
  },
  {
   "cell_type": "code",
   "execution_count": 8,
   "id": "7cfe02bb",
   "metadata": {},
   "outputs": [],
   "source": [
    "df = df[:int(len(df)/10)]; ## Limit the rows down to 1/10 of the entire dataset. Total of 56845 rows."
   ]
  },
  {
   "cell_type": "code",
   "execution_count": null,
   "id": "dc60ffc2",
   "metadata": {},
   "outputs": [],
   "source": [
    "def text_cleansing(text):\n",
    "    # Convert the words in lowercases.\n",
    "    text = text.lower();\n",
    "\n",
    "    # Remove punctuations and special characters.\n",
    "    text = re.sub(r\"[^a-zA-Z\\s]\", \"\", text);\n",
    "\n",
    "    return text;"
   ]
  },
  {
   "cell_type": "code",
   "execution_count": null,
   "id": "816ac516",
   "metadata": {},
   "outputs": [],
   "source": [
    "def stopword_cleansing(text):\n",
    "    # Cleanse the Text\n",
    "    cleaned_text = text_cleansing(text)\n",
    "\n",
    "    # Remove Tokenize the cleaned text\n",
    "    tokens = word_tokenize(cleaned_text)\n",
    "    \n",
    "    # Remove stopwords\n",
    "    stop_words = set(stopwords.words(\"english\"))\n",
    "    filtered_tokens = [token for token in tokens if token not in stop_words]\n",
    "\n",
    "    return filtered_tokens"
   ]
  },
  {
   "cell_type": "code",
   "execution_count": 9,
   "id": "b8104b8f",
   "metadata": {},
   "outputs": [],
   "source": [
    "# Ensure 'Text' column exists\n",
    "if 'Text' in df.columns:\n",
    "    # Fill any missing values in 'Text' with empty strings\n",
    "    df['Text'] = df['Text'].fillna('')\n",
    "\n",
    "    # Ensure all values in 'Text' are strings\n",
    "    df['Text'] = df['Text'].astype(str)\n",
    "\n",
    "    # Clean the words using custom function\n",
    "    df['tokenized'] = df['Text'].apply(lambda x: stopword_cleansing(x))\n",
    "\n",
    "    # # Apply tokenization\n",
    "    # df[\"tokenized\"] = df[\"Text\"].apply(word_tokenize)\n",
    "\n",
    "else:\n",
    "    raise KeyError(\"'Text' column not found in DataFrame\")"
   ]
  },
  {
   "cell_type": "code",
   "execution_count": 10,
   "id": "fdaad60f",
   "metadata": {},
   "outputs": [],
   "source": [
    "# Indexing and Numericalization\n",
    "word_counter = Counter()\n",
    "for tokens in df['tokenized']:\n",
    "    word_counter.update(tokens)"
   ]
  },
  {
   "cell_type": "code",
   "execution_count": 11,
   "id": "1e4ce6c8",
   "metadata": {},
   "outputs": [],
   "source": [
    "vocab = {word: idx + 2 for idx, (word, _) in enumerate(word_counter.most_common())}\n",
    "vocab['<PAD>'] = 0  # Padding token\n",
    "vocab['<UNK>'] = 1  # Unknown token"
   ]
  },
  {
   "cell_type": "code",
   "execution_count": 12,
   "id": "b563e3c7",
   "metadata": {},
   "outputs": [],
   "source": [
    "df['numericalized'] = df['tokenized'].apply(lambda x: [vocab.get(token, vocab['<UNK>']) for token in x])"
   ]
  },
  {
   "cell_type": "code",
   "execution_count": 13,
   "id": "dce5d77b",
   "metadata": {},
   "outputs": [],
   "source": [
    "# Padding\n",
    "max_len = max(map(len, df['numericalized']))\n",
    "df['padded'] = df['numericalized'].apply(lambda x: x + [vocab['<PAD>']] * (max_len - len(x)))"
   ]
  },
  {
   "cell_type": "code",
   "execution_count": 14,
   "id": "10e29e02",
   "metadata": {},
   "outputs": [],
   "source": [
    "class CustomDataset(Dataset):\n",
    "    def __init__(self, X, y):\n",
    "        super(CustomDataset, self).__init__();\n",
    "        self.X = X;\n",
    "        self.y = y;\n",
    "\n",
    "    def __len__(self):\n",
    "        return len(self.X);\n",
    "\n",
    "    def __getitem__(self, index):\n",
    "        return self.X[index], self.y[index];"
   ]
  },
  {
   "cell_type": "code",
   "execution_count": 15,
   "id": "5fb0a2c7",
   "metadata": {},
   "outputs": [],
   "source": [
    "df['Score'] = df['Score'] - 1\n",
    "# Load the data, padded versions.\n",
    "X = torch.tensor(df[\"padded\"].tolist());\n",
    "y = torch.tensor(df[\"Score\"].tolist()).long();"
   ]
  },
  {
   "cell_type": "code",
   "execution_count": 16,
   "id": "397f7c79",
   "metadata": {},
   "outputs": [],
   "source": [
    "dataset = CustomDataset(X, y);\n",
    "n = len(dataset);"
   ]
  },
  {
   "cell_type": "code",
   "execution_count": 17,
   "id": "e70ac2f0",
   "metadata": {},
   "outputs": [],
   "source": [
    "batch_size = 100;\n",
    "train_size = int(0.75 * n);\n",
    "validation_size = int(0.15 * n);\n",
    "test_size = n - train_size - validation_size;\n",
    "\n",
    "train_dataset, val_dataset, test_dataset = torch.utils.data.random_split(dataset, [train_size, validation_size, test_size])\n",
    "\n",
    "# Create DataLoader for each train, validation, and test datasets.\n",
    "train_dataloader = DataLoader(train_dataset, batch_size=batch_size, shuffle=True, num_workers=4);\n",
    "validation_dataloader = DataLoader(val_dataset, batch_size=batch_size, shuffle=True, num_workers=4)\n",
    "test_dataloader = DataLoader(test_dataset, batch_size=batch_size, shuffle=True, num_workers=4)"
   ]
  },
  {
   "cell_type": "code",
   "execution_count": 18,
   "id": "9ebf85aa",
   "metadata": {},
   "outputs": [],
   "source": [
    "class Model(nn.Module):\n",
    "    def __init__(self, vocab_size, embedding_dim, hidden_dim, output_dim, bidirectional = True, num_layers = 2, dropout = 0.2):\n",
    "        super(Model, self).__init__();\n",
    "        # self.embedding = nn.Embedding(vocab_size, embedding_dim);\n",
    "        # self.lstm = nn.LSTM(embedding_dim, hidden_dim, num_layers, batch_first=True);\n",
    "        # self.dropout = nn.Dropout(dropout);\n",
    "        # self.fc = nn.Linear(hidden_dim, output_dim);\n",
    "        # self.batch_norm = nn.BatchNorm1d(hidden_dim);\n",
    "\n",
    "        self.embedding = nn.Embedding(vocab_size, embedding_dim)\n",
    "        self.bidirectional = bidirectional\n",
    "        self.hidden_dim = hidden_dim\n",
    "        self.lstm = nn.LSTM(embedding_dim, hidden_dim, num_layers, batch_first=True, bidirectional=bidirectional)\n",
    "        self.dropout = nn.Dropout(dropout)\n",
    "        self.batch_norm = nn.BatchNorm1d(hidden_dim * 2 if bidirectional else hidden_dim)\n",
    "        self.fc1 = nn.Linear(hidden_dim * 2 if bidirectional else hidden_dim, hidden_dim)\n",
    "        self.fc2 = nn.Linear(hidden_dim, output_dim)\n",
    "    \n",
    "    def forward(self, x):\n",
    "        # embedded = self.embedding(x);\n",
    "        # lstm_out, _ = self.lstm(embedded);\n",
    "        # lstm_out = self.dropout(lstm_out);\n",
    "        # lstm_out = self.batch_norm(lstm_out);\n",
    "        # # out = self.fc(lstm_out[:, -1, :]);\n",
    "        # out = self.fc(lstm_out);\n",
    "        # out = self.dropout(out);\n",
    "\n",
    "        embedded = self.embedding(x)\n",
    "        lstm_out, _ = self.lstm(embedded)\n",
    "        \n",
    "        # Concatenate the outputs from both directions if bidirectional\n",
    "        if self.bidirectional:\n",
    "            lstm_out = torch.cat((lstm_out[:, -1, :self.hidden_dim], lstm_out[:, 0, self.hidden_dim:]), dim=1)\n",
    "        else:\n",
    "            lstm_out = lstm_out[:, -1, :]\n",
    "        \n",
    "        lstm_out = self.dropout(lstm_out)\n",
    "        lstm_out = self.batch_norm(lstm_out)\n",
    "        out = self.fc1(lstm_out)\n",
    "        out = self.dropout(out)\n",
    "        out = self.fc2(out)\n",
    "        \n",
    "        return out;"
   ]
  },
  {
   "cell_type": "code",
   "execution_count": 19,
   "id": "ade04947",
   "metadata": {},
   "outputs": [],
   "source": [
    "# Defining hyperparameters\n",
    "vocab_size = len(vocab);\n",
    "embedding_dim = 100;\n",
    "hidden_dim = 128;\n",
    "output_dim = 5;"
   ]
  },
  {
   "cell_type": "code",
   "execution_count": 20,
   "id": "9468a5f8",
   "metadata": {},
   "outputs": [],
   "source": [
    "model = Model(vocab_size, embedding_dim, hidden_dim, output_dim);"
   ]
  },
  {
   "cell_type": "code",
   "execution_count": 21,
   "id": "4105a7bf",
   "metadata": {},
   "outputs": [],
   "source": [
    "criterion = nn.CrossEntropyLoss();\n",
    "optimizer = torch.optim.RMSprop(model.parameters(), lr=0.0001);"
   ]
  },
  {
   "cell_type": "code",
   "execution_count": 22,
   "id": "a7b5dfcd",
   "metadata": {},
   "outputs": [
    {
     "name": "stdout",
     "output_type": "stream",
     "text": [
      "Starting epoch 1\n"
     ]
    }
   ],
   "source": [
    "num_epochs = 10;\n",
    "\n",
    "for epoch in range(num_epochs):\n",
    "    print(f'Starting epoch {epoch+1}')\n",
    "    model.train()  # Train the model\n",
    "    total_loss = 0  # Initialize the Loss to 0\n",
    "\n",
    "    for batch_idx, (inputs, labels) in enumerate(train_dataloader):\n",
    "        print(f'Processing batch {batch_idx+1}')\n",
    "        optimizer.zero_grad()  # Clearing out the Gradient Descent\n",
    "\n",
    "        # Forward pass\n",
    "        inputs = inputs.to(torch.int64)\n",
    "        labels = labels.to(torch.int64)\n",
    "        outputs = model(inputs)\n",
    "\n",
    "        # Debugging shapes and types\n",
    "        print(f'Outputs shape: {outputs.shape}, Labels shape: {labels.shape}')\n",
    "        print(f'Outputs dtype: {outputs.dtype}, Labels dtype: {labels.dtype}')\n",
    "\n",
    "        # Calculate the loss\n",
    "        try:\n",
    "            loss = criterion(outputs, labels)\n",
    "            print(f'Loss: {loss.item()}')\n",
    "            # Backward pass and optimization\n",
    "            loss.backward()\n",
    "            optimizer.step()\n",
    "        except Exception as e:\n",
    "            print(f'Error in loss calculation: {e}')\n",
    "            break  # Exit the loop if there's an error in loss calculation\n",
    "\n",
    "        total_loss += loss.item();\n",
    "\n",
    "    # Print average loss for each epoch\n",
    "    print(f'Epoch {epoch+1}/{num_epochs}, Loss: {total_loss/len(train_dataloader)}');"
   ]
  },
  {
   "cell_type": "code",
   "execution_count": null,
   "id": "b8214c80",
   "metadata": {},
   "outputs": [],
   "source": []
  },
  {
   "cell_type": "code",
   "execution_count": null,
   "id": "26518b49",
   "metadata": {},
   "outputs": [],
   "source": []
  },
  {
   "cell_type": "code",
   "execution_count": null,
   "id": "849a1e87",
   "metadata": {},
   "outputs": [],
   "source": []
  },
  {
   "cell_type": "code",
   "execution_count": null,
   "id": "a614f05e",
   "metadata": {},
   "outputs": [],
   "source": []
  },
  {
   "cell_type": "code",
   "execution_count": null,
   "id": "7a7ad6c0",
   "metadata": {},
   "outputs": [],
   "source": []
  }
 ],
 "metadata": {
  "kernelspec": {
   "display_name": "Python 3.10.14 64-bit",
   "language": "python",
   "name": "python3"
  },
  "language_info": {
   "codemirror_mode": {
    "name": "ipython",
    "version": 3
   },
   "file_extension": ".py",
   "mimetype": "text/x-python",
   "name": "python",
   "nbconvert_exporter": "python",
   "pygments_lexer": "ipython3",
   "version": "3.11.9"
  },
  "vscode": {
   "interpreter": {
    "hash": "bd385fe162c5ca0c84973b7dd5c518456272446b2b64e67c2a69f949ca7a1754"
   }
  }
 },
 "nbformat": 4,
 "nbformat_minor": 5
}
